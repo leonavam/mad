{
 "cells": [
  {
   "cell_type": "markdown",
   "metadata": {},
   "source": [
    "**Nombre**: Erik Navarrete 0401687561\n",
    "\n",
    "[Ir al Repositorio](https://github.com/leonavam/mad/blob/master/Grafos-MAD.ipynb)"
   ]
  },
  {
   "cell_type": "markdown",
   "metadata": {},
   "source": [
    "# Tarea Grafos"
   ]
  },
  {
   "cell_type": "code",
   "execution_count": 1,
   "metadata": {},
   "outputs": [],
   "source": [
    "# Añadir librerías a utilizar\n",
    "import networkx as nx  # Lib para crear grafos\n",
    "import numpy as np #Lib para trabjar con las matrices de grafos"
   ]
  },
  {
   "cell_type": "markdown",
   "metadata": {},
   "source": [
    "### Plantemiento de los grafos\n",
    "\n",
    "Asumiendo que:\n",
    "\n",
    "+ ***\"otros\"*** equivale a un candidato y que cada candidato es un vértice, tendremos V=6.\n",
    "+ Como las menciones son de un candidato a otro y no están presentes dos, tenemos un Digrafo.\n",
    "+ Las menciones de un candidato a otro serían los pesos de las aristas, que serán añadidos después para mostrar caminos ([Grafo Ponderado](#ponderado)).\n",
    "\n",
    "Tendremos entonces:\n",
    "\n",
    "> V { Pablo Iglesias, Pedro Sanchez, Albert Rivera, Pablo Casado, Santiago Abascal, Otros }\n",
    "\n",
    "> **V** { 1, 2, 3, 4, 5, 6 }, como vértices o nodos del grafo.\n"
   ]
  },
  {
   "cell_type": "markdown",
   "metadata": {},
   "source": [
    "## Debate de RTVE"
   ]
  },
  {
   "cell_type": "code",
   "execution_count": 2,
   "metadata": {},
   "outputs": [],
   "source": [
    "# Crear un Digrafo G\n",
    "G = nx.DiGraph()\n",
    "\n",
    "# Añadir vértices\n",
    "nodos = [1,2,3,4,5,6]\n",
    "G.add_nodes_from(nodos)\n",
    "\n",
    "# Añadir aristas/arcos con peso\n",
    "arcos1 = [\n",
    "    (1, 2),\n",
    "    (1, 3),\n",
    "    (1, 4),\n",
    "    (1, 5),\n",
    "    (1, 6)\n",
    "]\n",
    "arcos2 = [\n",
    "    (2, 1),\n",
    "    (2, 3),\n",
    "    (2, 4),\n",
    "    (2, 5),\n",
    "    (2, 6)\n",
    "]\n",
    "arcos3 = [\n",
    "    (3, 1),\n",
    "    (3, 2),\n",
    "    (3, 4),\n",
    "    (3, 6)\n",
    "]\n",
    "arcos4 = [\n",
    "    (4, 1),\n",
    "    (4, 2),\n",
    "    (4, 3),\n",
    "    (4, 6)\n",
    "]\n",
    "\n",
    "G.add_edges_from(arcos1)\n",
    "G.add_edges_from(arcos2)\n",
    "G.add_edges_from(arcos3)\n",
    "G.add_edges_from(arcos4)\n",
    "\n",
    "nx.draw_circular(G, with_labels=True)"
   ]
  },
  {
   "cell_type": "code",
   "execution_count": 3,
   "metadata": {},
   "outputs": [
    {
     "name": "stdout",
     "output_type": "stream",
     "text": [
      "[[0 1 1 1 1 1]\n",
      " [1 0 1 1 1 1]\n",
      " [1 1 0 1 0 1]\n",
      " [1 1 1 0 0 1]\n",
      " [0 0 0 0 0 0]\n",
      " [0 0 0 0 0 0]]\n"
     ]
    }
   ],
   "source": [
    "# Obteniendo la matriz de adyacencia\n",
    "A = nx.adjacency_matrix(G)\n",
    "print(A.todense())"
   ]
  },
  {
   "cell_type": "markdown",
   "metadata": {},
   "source": [
    "## Debate de Atresmedia"
   ]
  },
  {
   "cell_type": "code",
   "execution_count": 4,
   "metadata": {},
   "outputs": [
    {
     "data": {
      "image/png": "[encoded data removed]",
      "text/plain": [
       "<Figure size 432x288 with 1 Axes>"
      ]
     },
     "metadata": {},
     "output_type": "display_data"
    }
   ],
   "source": [
    "# Crear un Digrafo H\n",
    "H = nx.DiGraph()\n",
    "H.clear()\n",
    "\n",
    "# Añadir vértices\n",
    "nodos = [1,2,3,4,5,6]\n",
    "H.add_nodes_from(nodos)\n",
    "\n",
    "# Añadir aristas/arcos con peso\n",
    "harcos1 = [\n",
    "    (1, 2),\n",
    "    (1, 3),\n",
    "    (1, 4),\n",
    "    (1, 5),\n",
    "    (1, 6)\n",
    "]\n",
    "harcos2 = [\n",
    "    (2, 1),\n",
    "    (2, 3),\n",
    "    (2, 4),\n",
    "    (2, 5),\n",
    "    (2, 6)\n",
    "]\n",
    "harcos3 = [\n",
    "    (3, 1),\n",
    "    (3, 2),\n",
    "    (3, 4),\n",
    "    (3, 6)\n",
    "]\n",
    "harcos4 = [\n",
    "    (4, 1),\n",
    "    (4, 2),\n",
    "    (4, 3),\n",
    "    (4, 5),\n",
    "    (4, 6)\n",
    "]\n",
    "\n",
    "H.add_edges_from(harcos1)\n",
    "H.add_edges_from(harcos2)\n",
    "H.add_edges_from(harcos3)\n",
    "H.add_edges_from(harcos4)\n",
    "\n",
    "nx.draw_circular(H, with_labels=True)"
   ]
  },
  {
   "cell_type": "code",
   "execution_count": 5,
   "metadata": {},
   "outputs": [
    {
     "name": "stdout",
     "output_type": "stream",
     "text": [
      "[[0 1 1 1 1 1]\n",
      " [1 0 1 1 1 1]\n",
      " [1 1 0 1 0 1]\n",
      " [1 1 1 0 1 1]\n",
      " [0 0 0 0 0 0]\n",
      " [0 0 0 0 0 0]]\n"
     ]
    }
   ],
   "source": [
    "# Obteniendo la matriz de adyacencia\n",
    "hA = nx.adjacency_matrix(H)\n",
    "print(hA.todense())"
   ]
  },
  {
   "cell_type": "markdown",
   "metadata": {},
   "source": [
    "## Temáticas a estudiar acerca de grafos\n",
    "\n",
    "* [Grados de un Digrafo](#grado)\n",
    "* [Matriz de Incidencia](#incidencia)\n",
    "* [Grafos ponderados](#ponderado)\n",
    "* [Grafos conexos](#conexo)\n",
    "* [Orientabilidad de un Grafo](#orientable)\n",
    "* [Grafos eulerianos](#eulerianos)\n"
   ]
  },
  {
   "cell_type": "markdown",
   "metadata": {},
   "source": [
    "### Grado de un Digrafo <a name=\"grado\"/>\n",
    "\n",
    "> $\\sum_{v \\in V}d_{e}(V) = \\sum_{v \\in V}d_{s}(V)=\\mid E \\mid$\n",
    "\n",
    "La sumatoria de los Grados de cada Vértice es igual al número de aristas.\n",
    "\n",
    "+ Respecto al grafo G (el primero), encontrar sus grados correspondientes y verificar si la ecuación es verdadera"
   ]
  },
  {
   "cell_type": "code",
   "execution_count": 6,
   "metadata": {},
   "outputs": [
    {
     "name": "stdout",
     "output_type": "stream",
     "text": [
      "El grado del Digrafo es: 18 Correcto!\n"
     ]
    }
   ],
   "source": [
    "E = G.size() # obtiene el número de las aristas\n",
    "\n",
    "ds = G.out_degree()\n",
    "de = G.in_degree()\n",
    "\n",
    "v_ds = 0\n",
    "v_de = 0\n",
    "# Encontrar el total de las tablas de grados que se obtiene con out_degree()\n",
    "for d, k in ds:\n",
    "    v_ds += k\n",
    "\n",
    "for d, k in ds:\n",
    "    v_de += k\n",
    "\n",
    "if (v_ds == v_de and v_de == E):\n",
    "    print(\"El grado del Digrafo es:\", E, \"Correcto!\")"
   ]
  },
  {
   "cell_type": "markdown",
   "metadata": {},
   "source": [
    "### Matriz de Incidencia <a name=\"incidencia\"/>\n",
    "\n",
    "La matriz de incidencia es una matriz binaria (sus elementos sólo pueden ser unos o ceros), que se utiliza como una forma de representar relaciones binarias.\n",
    "\n",
    "- ***Construcción***\n",
    "    1. Las columnas de la matriz representan las aristas del grafo.\n",
    "    2. Las filas representan a los distintos nodos.\n",
    "    3. Por cada nodo unido por una arista, ponemos un uno (1) en el lugar correspondiente, y llenamos el resto de las ubicaciones con ceros (0).\n",
    "    \n",
    "En el ejemplo de la siguiente figura, si sumamos las cantidades de 1's que hay en cada columna, veremos que hay solo dos, que representan los puntos de conexión entre una arista y sus vértices.\n",
    "Si sumamos las cantidades de unos 1's que hay por cada fila comprobamos la cantidad de aristas que inciden sobre el vértice."
   ]
  },
  {
   "cell_type": "code",
   "execution_count": 7,
   "metadata": {},
   "outputs": [
    {
     "name": "stdout",
     "output_type": "stream",
     "text": [
      "[[1. 1. 1. 1. 1. 1. 0. 0. 0. 0. 1. 0. 0. 0. 1. 0. 0. 0.]\n",
      " [1. 0. 0. 0. 0. 1. 1. 1. 1. 1. 0. 1. 0. 0. 0. 1. 0. 0.]\n",
      " [0. 1. 0. 0. 0. 0. 1. 0. 0. 0. 1. 1. 1. 1. 0. 0. 1. 0.]\n",
      " [0. 0. 1. 0. 0. 0. 0. 1. 0. 0. 0. 0. 1. 0. 1. 1. 1. 1.]\n",
      " [0. 0. 0. 1. 0. 0. 0. 0. 1. 0. 0. 0. 0. 0. 0. 0. 0. 0.]\n",
      " [0. 0. 0. 0. 1. 0. 0. 0. 0. 1. 0. 0. 0. 1. 0. 0. 0. 1.]]\n"
     ]
    }
   ],
   "source": [
    "mi=nx.incidence_matrix(G)\n",
    "print( mi.todense() )"
   ]
  },
  {
   "cell_type": "code",
   "execution_count": 8,
   "metadata": {},
   "outputs": [
    {
     "name": "stdout",
     "output_type": "stream",
     "text": [
      "[(1, 8), (2, 8), (3, 7), (4, 7), (5, 2), (6, 4)]\n"
     ]
    }
   ],
   "source": [
    "# Se puede evidenciar las aristas incidentes con\n",
    "print(G.degree())\n",
    "# Que muestra una tupla {#nodo: valor de aristas incidentes}"
   ]
  },
  {
   "cell_type": "markdown",
   "metadata": {},
   "source": [
    "### Grafos ponderados <a name=\"ponderado\"/>\n",
    "\n",
    "Un grafo es ponderado si cada arista que lo constituye tiene un valor asociado, al que se llamará peso.\n",
    "Este grafo utiliza una matriz de pesos que muestra el camino directo entre un nodo y otro.\n",
    "\n",
    "+ En un gafo ponderado llamamos camino mas corto entre dos vértices dados al camino de peso mínimo entre dichos vértices.\n",
    "+ En un grafo ponderado llamaremos camino mas largo o camino critico entre dos vértices al camino de peso máximo entre dichos vértices.\n",
    "\n",
    "> Para el ejemplo se actualizará el Grafo G a un Grafo Ponderado (Hp) sin dirección para poder utilizar más herramientas de la libreria [NetworkX](https://networkx.github.io/documentation/stable/reference/algorithms/index.html):"
   ]
  },
  {
   "cell_type": "code",
   "execution_count": 17,
   "metadata": {},
   "outputs": [
    {
     "data": {
      "image/png": "[encoded data removed]",
      "text/plain": [
       "<Figure size 432x288 with 1 Axes>"
      ]
     },
     "metadata": {
      "needs_background": "light"
     },
     "output_type": "display_data"
    }
   ],
   "source": [
    "# Crear un Digrafo G\n",
    "Gp = nx.DiGraph()\n",
    "Gp.clear()\n",
    "# Añadir vértices\n",
    "nodos = [1,2,3,4,5,6]\n",
    "Gp.add_nodes_from(nodos)\n",
    "\n",
    "# Añadir aristas/arcos con peso\n",
    "parcos1 = [\n",
    "    (1, 2, 11), (1, 3, 7), (1, 4, 5), (1, 5, 1), (1, 6, 4)\n",
    "]\n",
    "parcos2 = [\n",
    "    (2, 1, 3), (2, 3, 10), (2, 4, 18), (2, 5, 6), (2, 6, 1)\n",
    "]\n",
    "parcos3 = [\n",
    "    (3, 1, 7), (3, 2, 21), (3, 4, 9), (3, 6, 17)\n",
    "]\n",
    "parcos4 = [\n",
    "    (4, 1, 7), (4, 2, 21), (4, 3, 1), (4, 6, 16)\n",
    "]\n",
    "\n",
    "Gp.add_weighted_edges_from(parcos1)\n",
    "Gp.add_weighted_edges_from(parcos2)\n",
    "Gp.add_weighted_edges_from(parcos3)\n",
    "Gp.add_weighted_edges_from(parcos4)\n",
    "\n",
    "Hp = nx.Graph(Gp)\n",
    "\n",
    "nx.draw_networkx(Hp, with_labels=True, node_color='y') #El dibujo será el mismo que el que se ha mostrado al inicio"
   ]
  },
  {
   "cell_type": "code",
   "execution_count": 10,
   "metadata": {},
   "outputs": [
    {
     "name": "stdout",
     "output_type": "stream",
     "text": [
      "Es un grafo ponderado\n"
     ]
    }
   ],
   "source": [
    "# Verificamos si Gp es un Grafo Ponderado\n",
    "if( nx.is_weighted(Hp)):\n",
    "    print(\"Es un grafo ponderado\")"
   ]
  },
  {
   "cell_type": "markdown",
   "metadata": {},
   "source": [
    "### Grafos conexos <a name=\"conexo\"/>\n",
    "\n",
    "Un grafo es conexo si todos sus vértices se alcanzan mutuamente; un digrafo se denominaría fuertemente conexo.\n",
    "\n",
    "+ La matriz de accesos de un grafo conexo está formada sólo de 1's.\n",
    "+ Si la matriz de acceso de un grafo está formada sólo por 1's, entonces el grafo es conexo."
   ]
  },
  {
   "cell_type": "code",
   "execution_count": 11,
   "metadata": {},
   "outputs": [
    {
     "name": "stdout",
     "output_type": "stream",
     "text": [
      "Es un grafo conexo\n"
     ]
    }
   ],
   "source": [
    "# Esta sería la matriz de acceso del grafo Hp\n",
    "mat_Acceso = [\n",
    "    (1,1,1,1,1,1),\n",
    "    (1,1,1,1,1,1),\n",
    "    (1,1,1,1,1,1),\n",
    "    (1,1,1,1,1,1),\n",
    "    (1,1,1,1,1,1),\n",
    "    (1,1,1,1,1,1),\n",
    "]    \n",
    "\n",
    "# Comprobar un grafo conexo\n",
    "if(nx.is_connected(Hp)):\n",
    "    print(\"Es un grafo conexo\")"
   ]
  },
  {
   "cell_type": "markdown",
   "metadata": {},
   "source": [
    "### Orientabilidad <a name=\"orientable\"/>\n",
    "\n",
    "La orientebilidad se aplica sólo sobre Grafos no dirigidos.\n",
    "\n",
    "+ Un grafo es orientable si:\n",
    "    1. Es conexo y\n",
    "    2. No tiene aristas de puente"
   ]
  },
  {
   "cell_type": "code",
   "execution_count": 12,
   "metadata": {},
   "outputs": [
    {
     "name": "stdout",
     "output_type": "stream",
     "text": [
      "El Grafo es orientable\n"
     ]
    }
   ],
   "source": [
    "# En grafos conexos observamos que Hp es un grafo conexo\n",
    "# Hay que identificar si existen aristas puente, si no las hay el grafo es orientable\n",
    "if not( nx.has_bridges(Hp) ):\n",
    "    print(\"El Grafo es orientable\")"
   ]
  },
  {
   "cell_type": "markdown",
   "metadata": {},
   "source": [
    "### Grafos eulerianos <a name=\"eulerianos\"/>\n",
    "\n",
    "+ Se llama cadena euleriana en G a toda cadena en G que pase por todas y cada una de sus aristas (respectivamente arcos) una sóla vez.\n",
    "    + Cadena euleriana no cerrada -> Si parte de un vértice y termina en uno diferente\n",
    "+ Se llama ciclo euleriano en G a toda cadena euleriana cerrada\n",
    "    + Cadena euleriana cerrada o ***ciclo euleriano*** -> Si parte de un vértice y termina en el mismo\n",
    "\n",
    "> Un grafo G se dice que es euleriano si posee un ciclo euleriano.\n",
    "\n",
    "+ ***Grafos no dirigidos***\n",
    "    + G es euleriano si y sólo si todos los vértices tienen grado par.\n",
    "    + G tiene una cadena euleriana no cerrada si y sólo si G tiene exactamente dos vértices de grado impar (serán los extremos de la cadena)\n",
    "    \n",
    "+ ***Digrafos***\n",
    "    + Sea G un digrafo debil conexo,\n",
    "    + G es euleriano si y sólo si todos los vértices tiene el mismo grado de entrada que de salida\n",
    "    + G tiene una cadena euleriana no cerrada si y sólo si existen dos vértices u y v tal que u tenga $d_e(u)=d_s(u)+1$ y $d_s(v)=d_e(v)+1$ => un vertice con una salida más que su entrada y otro con una entrada más que su salida.\n",
    "        + Todos los vértices distintos de ***u*** y ***v*** tiene el mismo grado de entrada y salida"
   ]
  },
  {
   "cell_type": "markdown",
   "metadata": {},
   "source": [
    "#### Grafos no dirigidos"
   ]
  },
  {
   "cell_type": "code",
   "execution_count": 13,
   "metadata": {},
   "outputs": [
    {
     "name": "stdout",
     "output_type": "stream",
     "text": [
      "El grafo generado es euleriano\n",
      "Además todos sus vértices tienen grados pares, entiendase (Vértice, Grado)\n",
      "[(0, 4), (1, 4), (2, 4), (3, 4), (4, 4)]\n"
     ]
    },
    {
     "data": {
      "image/png": "[encoded data removed]",
      "text/plain": [
       "<Figure size 432x288 with 1 Axes>"
      ]
     },
     "metadata": {
      "needs_background": "light"
     },
     "output_type": "display_data"
    }
   ],
   "source": [
    "if(nx.is_eulerian(G) or nx.is_eulerian(H) or nx.is_eulerian(Hp)):\n",
    "    print(\"Ya hemos creado un grafo euleriano!\")\n",
    "else:\n",
    "    # Vamos a crear un grafo de prueba para evidenciar que si se puede utilizar la función is_eulerian(Grafo)\n",
    "    # Tenemos un generador de grafos incluido en el sistema\n",
    "    G_automatic = nx.complete_graph(5)\n",
    "    nx.draw_networkx(G_automatic)\n",
    "    if(nx.is_eulerian(G_automatic)):\n",
    "        print(\"El grafo generado es euleriano\")\n",
    "        print(\"Además todos sus vértices tienen grados pares, entiendase (Vértice, Grado)\")\n",
    "        print(G_automatic.degree())\n"
   ]
  },
  {
   "cell_type": "markdown",
   "metadata": {},
   "source": [
    "#### Digrafos"
   ]
  },
  {
   "cell_type": "code",
   "execution_count": 14,
   "metadata": {},
   "outputs": [
    {
     "name": "stdout",
     "output_type": "stream",
     "text": [
      "Es euleriano por eso ha sido dibujado\n"
     ]
    },
    {
     "data": {
      "image/png": "[encoded data removed]",
      "text/plain": [
       "<Figure size 432x288 with 1 Axes>"
      ]
     },
     "metadata": {
      "needs_background": "light"
     },
     "output_type": "display_data"
    }
   ],
   "source": [
    "DI = nx.DiGraph()\n",
    "DI.add_nodes_from([1,2,3,4])\n",
    "edges=[\n",
    "    (1,2),\n",
    "    (2,3),\n",
    "    (3,4),\n",
    "    (4,1)\n",
    "]\n",
    "DI.add_edges_from(edges)\n",
    "if(nx.is_eulerian(DI)):\n",
    "    nx.draw_networkx(DI)\n",
    "    print(\"Es euleriano por eso ha sido dibujado\")"
   ]
  },
  {
   "cell_type": "code",
   "execution_count": 15,
   "metadata": {},
   "outputs": [
    {
     "name": "stdout",
     "output_type": "stream",
     "text": [
      "[(1, 1), (2, 1), (3, 1), (4, 1)]\n",
      "[(1, 1), (2, 1), (3, 1), (4, 1)]\n"
     ]
    }
   ],
   "source": [
    "# Se comprueba que los vértices de entrada son los mismos que de salida\n",
    "print(DI.out_degree)\n",
    "print(DI.in_degree)"
   ]
  },
  {
   "cell_type": "code",
   "execution_count": 16,
   "metadata": {},
   "outputs": [
    {
     "name": "stdout",
     "output_type": "stream",
     "text": [
      "Salida [(1, 1), (2, 2), (3, 1), (4, 1)]\n",
      "Entrada [(1, 1), (2, 1), (3, 1), (4, 2)]\n",
      "No es euleriano pero SI tiene una cadena euleriana\n"
     ]
    },
    {
     "data": {
      "image/png": "[encoded data removed]",
      "text/plain": [
       "<Figure size 432x288 with 1 Axes>"
      ]
     },
     "metadata": {
      "needs_background": "light"
     },
     "output_type": "display_data"
    }
   ],
   "source": [
    "edges=[\n",
    "    (1,2),\n",
    "    (2,3),\n",
    "    (2,4),\n",
    "    (3,4),\n",
    "    (4,1)\n",
    "]\n",
    "DI.add_edges_from(edges)\n",
    "print(\"Salida\",DI.out_degree)\n",
    "print(\"Entrada\",DI.in_degree)\n",
    "if(nx.is_eulerian(DI)):\n",
    "    print(\"Es euleriano\")\n",
    "else:\n",
    "    count = 0\n",
    "    for i, k in DI.out_degree:\n",
    "        for j, m in DI.in_degree:\n",
    "            if(i==j): # Si es el mismo vértice accede\n",
    "                if(k<m or m<k):\n",
    "                    if( (m-k == 1) or (k-m == 1) ):\n",
    "                        count+=1\n",
    "                    else:\n",
    "                        break\n",
    "            elif (count > 2):\n",
    "                break\n",
    "    \n",
    "    if(count == 2):\n",
    "        print(\"No es euleriano pero SI tiene una cadena euleriana\")\n",
    "    else:\n",
    "        print(\"No es euleriano, ni tampoco tiene una cadena euleriana\")\n",
    "nx.draw_networkx(DI)"
   ]
  },
  {
   "cell_type": "markdown",
   "metadata": {},
   "source": [
    "# Bibliografía\n",
    "\n",
    "+ Networkx.github.io. (2019). Overview of NetworkX — NetworkX 2.3 documentation. Disponible en: [https://networkx.github.io/documentation/stable/index.html](https://networkx.github.io/documentation/stable/index.html) Consultado el 30 May 2019.\n",
    "+ Es.wikipedia.org. (2019). Matriz de incidencia. [online] Available at: [https://es.wikipedia.org/wiki/Matriz_de_incidencia](https://es.wikipedia.org/wiki/Matriz_de_incidencia) Consultado 30 May 2019."
   ]
  }
 ],
 "metadata": {
  "kernelspec": {
   "display_name": "Python 3",
   "language": "python",
   "name": "python3"
  },
  "language_info": {
   "codemirror_mode": {
    "name": "ipython",
    "version": 3
   },
   "file_extension": ".py",
   "mimetype": "text/x-python",
   "name": "python",
   "nbconvert_exporter": "python",
   "pygments_lexer": "ipython3",
   "version": "3.7.3"
  }
 },
 "nbformat": 4,
 "nbformat_minor": 2
}
